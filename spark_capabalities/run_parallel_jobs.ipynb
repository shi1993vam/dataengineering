{
 "cells": [
  {
   "cell_type": "code",
   "execution_count": 1,
   "id": "8e8f9aea-3d86-4835-93a7-48a1d8011eac",
   "metadata": {},
   "outputs": [
    {
     "name": "stderr",
     "output_type": "stream",
     "text": [
      "Setting default log level to \"WARN\".\n",
      "To adjust logging level use sc.setLogLevel(newLevel). For SparkR, use setLogLevel(newLevel).\n",
      "24/02/23 21:03:54 WARN NativeCodeLoader: Unable to load native-hadoop library for your platform... using builtin-java classes where applicable\n"
     ]
    }
   ],
   "source": [
    "from pyspark.sql import SparkSession\n",
    "from pyspark.sql import functions as f\n",
    "import threading\n",
    "\n",
    "spark = SparkSession.builder \\\n",
    "    .appName(\"Parallel Jobs Execution\") \\\n",
    "    .master(\"local[*]\") \\\n",
    "    .getOrCreate()\n",
    "\n"
   ]
  },
  {
   "cell_type": "code",
   "execution_count": 2,
   "id": "ddb27f2f-d409-4a48-bf72-d71607a19416",
   "metadata": {},
   "outputs": [],
   "source": [
    "def run_job(args):\n",
    "    rdd = spark.sparkContext.parallelize(range(0,100000000))\n",
    "    rdd = rdd.map(lambda x: {\"id\":x * args})\n",
    "    rdd.toDF().select(f.max(\"id\")).show()\n",
    "    # .write.csv(\"data_\"+str(args),mode=\"overwrite\")\n",
    "\n"
   ]
  },
  {
   "cell_type": "code",
   "execution_count": 3,
   "id": "a1eab542-f501-464a-b806-01f9cc9f5b56",
   "metadata": {},
   "outputs": [
    {
     "name": "stdout",
     "output_type": "stream",
     "text": [
      "0 --->starting\n",
      "1 --->starting\n",
      "2 --->starting\n",
      "3 --->starting\n",
      "4 --->starting\n",
      "5 --->starting\n",
      "6 --->starting\n",
      "7 --->starting\n",
      "8 --->starting\n",
      "9 --->starting\n",
      "waiting to complete  0\n"
     ]
    },
    {
     "name": "stderr",
     "output_type": "stream",
     "text": [
      "24/02/23 21:04:08 WARN GarbageCollectionMetrics: To enable non-built-in garbage collector(s) List(G1 Concurrent GC), users should configure it(them) to spark.eventLog.gcMetrics.youngGenerationGarbageCollectors or spark.eventLog.gcMetrics.oldGenerationGarbageCollectors\n",
      "[Stage 19:==============>                                           (2 + 6) / 8]\r"
     ]
    },
    {
     "name": "stdout",
     "output_type": "stream",
     "text": [
      "+---------+\n",
      "|  max(id)|\n",
      "+---------+\n",
      "|399999996|\n",
      "+---------+\n",
      "+---------+\n",
      "|  max(id)|\n",
      "+---------+\n",
      "|199999998|\n",
      "+---------+\n",
      "\n",
      "+---------+\n",
      "|  max(id)|\n",
      "+---------+\n",
      "|799999992|\n",
      "+---------+\n",
      "\n",
      "+-------+\n",
      "|max(id)|\n",
      "+-------+\n",
      "|      0|\n",
      "+-------+\n",
      "\n",
      "+---------+\n",
      "|  max(id)|\n",
      "+---------+\n",
      "|599999994|\n",
      "+---------+\n",
      "\n",
      "\n",
      "+---------+\n",
      "|  max(id)|\n",
      "+---------+\n",
      "|699999993|\n",
      "+---------+\n",
      "\n",
      "+---------+\n",
      "|  max(id)|\n",
      "+---------+\n",
      "|499999995|\n",
      "+---------+\n",
      "\n",
      "+--------+\n",
      "| max(id)|\n",
      "+--------+\n",
      "|99999999|\n",
      "+--------+\n",
      "\n",
      "waiting to complete  1\n",
      "waiting to complete  2\n",
      "waiting to complete  3\n",
      "+---------+\n",
      "|  max(id)|\n",
      "+---------+\n",
      "|899999991|\n",
      "+---------+\n",
      "\n"
     ]
    },
    {
     "name": "stderr",
     "output_type": "stream",
     "text": [
      "[Stage 19:===========================================>              (6 + 2) / 8]\r"
     ]
    },
    {
     "name": "stdout",
     "output_type": "stream",
     "text": [
      "+---------+\n",
      "|  max(id)|\n",
      "+---------+\n",
      "|299999997|\n",
      "+---------+\n",
      "\n",
      "waiting to complete  4\n",
      "waiting to complete  5\n",
      "waiting to complete  6\n",
      "waiting to complete  7\n",
      "waiting to complete  8\n",
      "waiting to complete  9\n"
     ]
    },
    {
     "name": "stderr",
     "output_type": "stream",
     "text": [
      "                                                                                \r"
     ]
    }
   ],
   "source": [
    "t_l = {} \n",
    "for i in range(10):\n",
    "    x = threading.Thread(target=run_job,args=(i,))\n",
    "    t_l[i]= x\n",
    "    print(i,\"--->starting\")\n",
    "    x.start()\n",
    "for j in t_l:\n",
    "    print(\"waiting to complete \", j)\n",
    "    t_l[j].join()\n",
    "\n"
   ]
  },
  {
   "cell_type": "code",
   "execution_count": null,
   "id": "ede1f89d-8198-42d1-a70b-b23e409ceb4f",
   "metadata": {},
   "outputs": [],
   "source": []
  }
 ],
 "metadata": {
  "kernelspec": {
   "display_name": "Python 3 (ipykernel)",
   "language": "python",
   "name": "python3"
  },
  "language_info": {
   "codemirror_mode": {
    "name": "ipython",
    "version": 3
   },
   "file_extension": ".py",
   "mimetype": "text/x-python",
   "name": "python",
   "nbconvert_exporter": "python",
   "pygments_lexer": "ipython3",
   "version": "3.9.6"
  }
 },
 "nbformat": 4,
 "nbformat_minor": 5
}
